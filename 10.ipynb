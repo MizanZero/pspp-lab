{
 "cells": [
  {
   "cell_type": "code",
   "execution_count": 97,
   "id": "ca5ae4f9-ed6f-4aaf-b666-edc51586a373",
   "metadata": {},
   "outputs": [
    {
     "name": "stdout",
     "output_type": "stream",
     "text": [
      "File created and written\n"
     ]
    }
   ],
   "source": [
    "with open(\"test.txt\", \"w\") as file:\n",
    "    file.write(\"First line\\n\")\n",
    "    file.write(\"Second\")\n",
    "print(\"File created and written\")"
   ]
  },
  {
   "cell_type": "code",
   "execution_count": 99,
   "id": "c86bc519-42d5-482d-b128-d7a470850e60",
   "metadata": {},
   "outputs": [
    {
     "name": "stdout",
     "output_type": "stream",
     "text": [
      "File content:\n",
      "\n",
      "First line\n",
      "Second\n"
     ]
    }
   ],
   "source": [
    "with open(\"test.txt\", \"r\") as file:\n",
    "    content=file.read()\n",
    "print(\"File content:\\n\"); print(content)"
   ]
  },
  {
   "cell_type": "code",
   "execution_count": 101,
   "id": "070534c2-5bac-4c0b-83d8-f741f7ba1035",
   "metadata": {},
   "outputs": [
    {
     "name": "stdout",
     "output_type": "stream",
     "text": [
      "First line\n",
      "Second"
     ]
    }
   ],
   "source": [
    "with open(\"test.txt\", \"r\") as file:\n",
    "    for line in file:\n",
    "        print(line,end=\"\")"
   ]
  },
  {
   "cell_type": "code",
   "execution_count": 103,
   "id": "3a577119-0a12-4dd7-9078-36e00097302e",
   "metadata": {},
   "outputs": [
    {
     "name": "stdout",
     "output_type": "stream",
     "text": [
      "Appended successfully\n"
     ]
    }
   ],
   "source": [
    "with open(\"test.txt\",\"a\") as file:\n",
    "    file.write(\"\\nThird line appended\")\n",
    "print(\"Appended successfully\")"
   ]
  },
  {
   "cell_type": "code",
   "execution_count": 115,
   "id": "5a5ba791-5912-4712-b24a-6efedf1feaa1",
   "metadata": {},
   "outputs": [
    {
     "name": "stdout",
     "output_type": "stream",
     "text": [
      "First 37 characters:\n",
      "\n",
      "First line\n",
      "Second\n",
      "Third line appended\n"
     ]
    }
   ],
   "source": [
    "with open(\"test.txt\", \"r\") as file:\n",
    "    content=file.read(37)\n",
    "print(\"First 37 characters:\\n\"); print(content)"
   ]
  },
  {
   "cell_type": "code",
   "execution_count": 117,
   "id": "af74da19-8f9e-4387-940c-4c3a04ed543b",
   "metadata": {},
   "outputs": [
    {
     "name": "stdout",
     "output_type": "stream",
     "text": [
      "File content: \n",
      "\n",
      "First line\n",
      "Second\n",
      "Third line appended\n"
     ]
    }
   ],
   "source": [
    "import os\n",
    "file_name = \"test.txt\"\n",
    "\n",
    "if os.path.exists(file_name):\n",
    "    with open(file_name, \"r\") as file:\n",
    "        content = file.read()\n",
    "    print(\"File content: \\n\")\n",
    "    print (content)\n",
    "else:\n",
    "    print(f\"The file {file_name} does not exist.\")\n"
   ]
  },
  {
   "cell_type": "code",
   "execution_count": 121,
   "id": "52075c0f-64e7-4c2d-998c-51463ce6d782",
   "metadata": {},
   "outputs": [
    {
     "name": "stdout",
     "output_type": "stream",
     "text": [
      "File content: \n",
      "\n",
      "First line\n",
      "Second\n",
      "Third line appended\n"
     ]
    }
   ],
   "source": [
    "try:\n",
    "    with open(\"test.txt\", \"r\") as file:\n",
    "        content = file.read()\n",
    "    print(\"File content: \\n\")\n",
    "    print(content)\n",
    "except FileNotFoundError :\n",
    "    print(\"Error: The file does not exist.\")\n",
    "except PermissionError:\n",
    "    print(\"Error: Permission denied to read the file.\")\n"
   ]
  },
  {
   "cell_type": "code",
   "execution_count": 127,
   "id": "ad2891f0-280d-4630-8a52-d4604ed3bcf4",
   "metadata": {},
   "outputs": [
    {
     "name": "stdout",
     "output_type": "stream",
     "text": [
      "Multiple lines written to the file.\n"
     ]
    }
   ],
   "source": [
    "with open( \"test. txt\", \"w\") as file:\n",
    "    lines = [\"This is line 1. \\n\", \"This is line 2. \\n\", \"This is line 3. \\n\"]\n",
    "    file.writelines(lines)\n",
    "print(\"Multiple lines written to the file.\")\n"
   ]
  },
  {
   "cell_type": "code",
   "execution_count": 129,
   "id": "142da18d-aa17-44ec-b4de-49f8c4f6af44",
   "metadata": {},
   "outputs": [
    {
     "name": "stdout",
     "output_type": "stream",
     "text": [
      "List of lines in the file:\n",
      "['This is line 1. \\n', 'This is line 2. \\n', 'This is line 3. \\n']\n"
     ]
    }
   ],
   "source": [
    "with open(\"test. txt\", \"r\") as file:\n",
    "    lines = file.readlines () # Reads the file a\n",
    "print( \"List of lines in the file:\")\n",
    "print (lines)"
   ]
  }
 ],
 "metadata": {
  "kernelspec": {
   "display_name": "Python 3 (ipykernel)",
   "language": "python",
   "name": "python3"
  },
  "language_info": {
   "codemirror_mode": {
    "name": "ipython",
    "version": 3
   },
   "file_extension": ".py",
   "mimetype": "text/x-python",
   "name": "python",
   "nbconvert_exporter": "python",
   "pygments_lexer": "ipython3",
   "version": "3.12.4"
  }
 },
 "nbformat": 4,
 "nbformat_minor": 5
}
